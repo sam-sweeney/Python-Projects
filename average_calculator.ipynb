{
 "cells": [
  {
   "cell_type": "code",
   "execution_count": 5,
   "id": "99f5aa4d",
   "metadata": {},
   "outputs": [
    {
     "name": "stdout",
     "output_type": "stream",
     "text": [
      "How many integers are you going to enter?: 3\n",
      "Enter an integer : 10\n",
      "Enter an integer : 4\n",
      "Enter an integer : 18\n",
      "The average of the numbers entered is:  10.666666666666666\n"
     ]
    }
   ],
   "source": [
    "number_input = input(\"How many integers are you going to enter?: \")\n",
    "number_input = int(number_input)\n",
    "total = 0\n",
    "\n",
    "for nums in range(number_input):\n",
    "    numbers = input(\"Enter an integer : \")\n",
    "    numbers = float(numbers)\n",
    "    \n",
    "    total += numbers\n",
    "\n",
    "average = total / number_input\n",
    "print(\"The average of the numbers entered is: \", average)"
   ]
  }
 ],
 "metadata": {
  "kernelspec": {
   "display_name": "Python 3 (ipykernel)",
   "language": "python",
   "name": "python3"
  },
  "language_info": {
   "codemirror_mode": {
    "name": "ipython",
    "version": 3
   },
   "file_extension": ".py",
   "mimetype": "text/x-python",
   "name": "python",
   "nbconvert_exporter": "python",
   "pygments_lexer": "ipython3",
   "version": "3.9.7"
  }
 },
 "nbformat": 4,
 "nbformat_minor": 5
}
