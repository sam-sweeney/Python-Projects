{
 "cells": [
  {
   "cell_type": "code",
   "execution_count": 1,
   "id": "5156bd9a",
   "metadata": {},
   "outputs": [
    {
     "name": "stdout",
     "output_type": "stream",
     "text": [
      "Please enter how many integers you want.10\n",
      "Please enter a lower bound.1\n",
      "Please enter an upper bound.100\n",
      "[45, 69, 92, 3, 70, 71, 39, 84, 54, 91]\n"
     ]
    }
   ],
   "source": [
    "import random\n",
    "import math\n",
    "\n",
    "user_int = input(\"Please enter how many integers you want.\")\n",
    "lower_bound = input(\"Please enter a lower bound.\")\n",
    "upper_bound = input(\"Please enter an upper bound.\")\n",
    "\n",
    "user_int = int(user_int)\n",
    "lower_bound = int(lower_bound)\n",
    "upper_bound = int(upper_bound)\n",
    "\n",
    "numbers = [random.randint(lower_bound, upper_bound) for i in range(user_int)]\n",
    "\n",
    "print(numbers)\n",
    "\n"
   ]
  }
 ],
 "metadata": {
  "kernelspec": {
   "display_name": "Python 3 (ipykernel)",
   "language": "python",
   "name": "python3"
  },
  "language_info": {
   "codemirror_mode": {
    "name": "ipython",
    "version": 3
   },
   "file_extension": ".py",
   "mimetype": "text/x-python",
   "name": "python",
   "nbconvert_exporter": "python",
   "pygments_lexer": "ipython3",
   "version": "3.9.7"
  }
 },
 "nbformat": 4,
 "nbformat_minor": 5
}
